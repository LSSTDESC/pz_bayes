{
 "cells": [
  {
   "cell_type": "code",
   "execution_count": 1,
   "metadata": {
    "collapsed": false
   },
   "outputs": [
    {
     "name": "stdout",
     "output_type": "stream",
     "text": [
      "Populating the interactive namespace from numpy and matplotlib\n"
     ]
    }
   ],
   "source": [
    "%pylab inline"
   ]
  },
  {
   "cell_type": "code",
   "execution_count": 77,
   "metadata": {
    "collapsed": true
   },
   "outputs": [],
   "source": [
    "import time\n",
    "import pandas as pd\n",
    "\n",
    "from astropy.io import fits\n",
    "from mlz_desc.ml_codes import *"
   ]
  },
  {
   "cell_type": "code",
   "execution_count": 145,
   "metadata": {
    "collapsed": true
   },
   "outputs": [],
   "source": [
    "def prepare_df(df, z=True):\n",
    "    \n",
    "    features = pd.DataFrame()\n",
    "    \n",
    "    features['u'] = df['LSSTu']\n",
    "    features['g'] = df['LSSTg']\n",
    "    features['r'] = df['LSSTr']\n",
    "    features['i'] = df['LSSTi']\n",
    "\n",
    "    u_g = df['LSSTu'] - df['LSSTg']\n",
    "    g_r = df['LSSTg'] - df['LSSTr']\n",
    "    r_i = df['LSSTr'] - df['LSSTi']\n",
    "    i_z = df['LSSTi'] - df['LSSTz']\n",
    "    z_y = df['LSSTz'] - df['LSSTy']\n",
    "\n",
    "    features['u-g'] = u_g\n",
    "    features['g-r'] = g_r\n",
    "    features['r-i'] = r_i\n",
    "    features['i-z'] = i_z\n",
    "    features['z-y'] = z_y\n",
    "    \n",
    "    if z:\n",
    "        redshift = pd.DataFrame()\n",
    "        redshift['zs'] = df['redshift']\n",
    "        return(features, redshift)\n",
    "    else:\n",
    "        return(features)"
   ]
  },
  {
   "cell_type": "code",
   "execution_count": 65,
   "metadata": {
    "collapsed": true
   },
   "outputs": [],
   "source": [
    "training_hdus = fits.open('data/Final_Buzzard_training_file.fits')\n",
    "all_training_df = pd.DataFrame(training_hdus[1].data)"
   ]
  },
  {
   "cell_type": "code",
   "execution_count": 79,
   "metadata": {
    "collapsed": true
   },
   "outputs": [],
   "source": [
    "features, redshifts = prepare_df(all_training_df)"
   ]
  },
  {
   "cell_type": "code",
   "execution_count": 67,
   "metadata": {
    "collapsed": true
   },
   "outputs": [],
   "source": [
    "u = features['u']\n",
    "g = features['g']\n",
    "r = features['r']\n",
    "i = features['i']"
   ]
  },
  {
   "cell_type": "code",
   "execution_count": 68,
   "metadata": {
    "collapsed": false
   },
   "outputs": [
    {
     "data": {
      "image/png": "[encoded data removed]",
      "text/plain": [
       "<matplotlib.figure.Figure at 0x11bc78cf8>"
      ]
     },
     "metadata": {},
     "output_type": "display_data"
    }
   ],
   "source": [
    "plt.hist([u, g, r, i], bins=20)\n",
    "plt.xlabel('mag')\n",
    "plt.ylabel('number')\n",
    "plt.show()"
   ]
  },
  {
   "cell_type": "code",
   "execution_count": 69,
   "metadata": {
    "collapsed": true
   },
   "outputs": [],
   "source": [
    "u_g = features['u-g']\n",
    "g_r = features['g-r']\n",
    "r_i = features['r-i']\n",
    "i_z = features['i-z']\n",
    "z_y = features['z-y']"
   ]
  },
  {
   "cell_type": "code",
   "execution_count": 70,
   "metadata": {
    "collapsed": false
   },
   "outputs": [
    {
     "data": {
      "image/png": "[encoded data removed]",
      "text/plain": [
       "<matplotlib.figure.Figure at 0x11ca106a0>"
      ]
     },
     "metadata": {},
     "output_type": "display_data"
    }
   ],
   "source": [
    "plt.hist([u_g, g_r, r_i, i_z, z_y], bins=20)\n",
    "plt.xlabel('mag')\n",
    "plt.ylabel('number')\n",
    "plt.show()"
   ]
  },
  {
   "cell_type": "code",
   "execution_count": 71,
   "metadata": {
    "collapsed": true
   },
   "outputs": [],
   "source": [
    "save_path = \"data/\"\n",
    "\n",
    "d = {'u': {'ind': 0}, 'g': {'ind': 1}, 'r': {'ind': 2}, 'i': {'ind': 3}, 'u-g': {'ind': 5}, 'g-r': {'ind': 6}, \n",
    "     'r-i': {'ind': 6}, 'i-z': {'ind': 6}, 'z-y': {'ind': 6}}\n",
    "\n",
    "columns = ['mag_u_lsst','mag_g_lsst','mag_r_lsst','mag_i_lsst', 'mag_u_lsst-mag_g_lsst', 'mag_g_lsst-mag_r_lsst', \n",
    "            'mag_r_lsst-mag_i_lsst', 'mag_i_lsst-mag_z_lsst', 'mag_z_lsst-mag_y_lsst']"
   ]
  },
  {
   "cell_type": "code",
   "execution_count": 72,
   "metadata": {
    "collapsed": true
   },
   "outputs": [],
   "source": [
    "n_trees = 100\n",
    "minleaf = 5"
   ]
  },
  {
   "cell_type": "code",
   "execution_count": 81,
   "metadata": {
    "collapsed": false
   },
   "outputs": [
    {
     "name": "stdout",
     "output_type": "stream",
     "text": [
      "126.61995792388916\n"
     ]
    }
   ],
   "source": [
    "start_time = time.time()\n",
    "Trees = [TPZ.Rtree(features.as_matrix()[::100], redshifts.as_matrix()[::100], minleaf=minleaf, mstar=3, dict_dim=d, \n",
    "                   forest='yes') for i in range(n_trees)]\n",
    "print(time.time()-start_time)"
   ]
  },
  {
   "cell_type": "code",
   "execution_count": 141,
   "metadata": {
    "collapsed": false
   },
   "outputs": [
    {
     "data": {
      "image/png": "[encoded data removed]",
      "text/plain": [
       "<matplotlib.figure.Figure at 0x126b33630>"
      ]
     },
     "metadata": {},
     "output_type": "display_data"
    }
   ],
   "source": [
    "for i in np.arange(0,50,5):\n",
    "    values = np.concatenate([T.get_vals(features.loc[i, :]) for T in Trees]).ravel()\n",
    "    plt.hist(values, bins=50, histtype='step')\n",
    "plt.show()"
   ]
  },
  {
   "cell_type": "code",
   "execution_count": 142,
   "metadata": {
    "collapsed": false
   },
   "outputs": [
    {
     "data": {
      "text/plain": [
       "0.31966162793914249"
      ]
     },
     "execution_count": 142,
     "metadata": {},
     "output_type": "execute_result"
    }
   ],
   "source": [
    "mean(values)"
   ]
  },
  {
   "cell_type": "code",
   "execution_count": 143,
   "metadata": {
    "collapsed": true
   },
   "outputs": [],
   "source": [
    "testing_hdus = fits.open('data/Final_Buzzard_test_file.fits')\n",
    "all_testing_df = pd.DataFrame(testing_hdus[1].data)"
   ]
  },
  {
   "cell_type": "code",
   "execution_count": 149,
   "metadata": {
    "collapsed": false
   },
   "outputs": [],
   "source": [
    "testing_df = prepare_df(all_testing_df, False)"
   ]
  },
  {
   "cell_type": "code",
   "execution_count": 161,
   "metadata": {
    "collapsed": false
   },
   "outputs": [
    {
     "data": {
      "image/png": "[encoded data removed]",
      "text/plain": [
       "<matplotlib.figure.Figure at 0x12130f6d8>"
      ]
     },
     "metadata": {},
     "output_type": "display_data"
    }
   ],
   "source": [
    "for i in np.arange(0,50,5):\n",
    "    values = np.concatenate([T.get_vals(testing_df.loc[i, :]) for T in Trees]).ravel()\n",
    "    w = np.ones_like(values) * np.sum(values)\n",
    "    plt.hist(values, bins=50, weights=1/w, histtype='step')\n",
    "plt.show()"
   ]
  },
  {
   "cell_type": "code",
   "execution_count": 151,
   "metadata": {
    "collapsed": false
   },
   "outputs": [
    {
     "data": {
      "text/plain": [
       "0.32398490239726024"
      ]
     },
     "execution_count": 151,
     "metadata": {},
     "output_type": "execute_result"
    }
   ],
   "source": [
    "mean(values)"
   ]
  },
  {
   "cell_type": "code",
   "execution_count": 154,
   "metadata": {
    "collapsed": false
   },
   "outputs": [
    {
     "data": {
      "text/plain": [
       "1.0"
      ]
     },
     "execution_count": 154,
     "metadata": {},
     "output_type": "execute_result"
    }
   ],
   "source": [
    "np.sum(values / np.sum(values))"
   ]
  },
  {
   "cell_type": "code",
   "execution_count": 158,
   "metadata": {
    "collapsed": false
   },
   "outputs": [
    {
     "data": {
      "text/plain": [
       "189.20718299999999"
      ]
     },
     "execution_count": 158,
     "metadata": {},
     "output_type": "execute_result"
    }
   ],
   "source": [
    "np.sum(values)"
   ]
  },
  {
   "cell_type": "code",
   "execution_count": 164,
   "metadata": {
    "collapsed": false
   },
   "outputs": [
    {
     "data": {
      "text/plain": [
       "array([ 131.82840189,   10.00414059,   18.18205346,   27.03940932,\n",
       "         26.19970784,    7.25723071,   23.18128565,   29.57346112,\n",
       "         34.74487184,   23.75552945,   37.48099692,   10.00414059,\n",
       "         24.7157559 ,    7.25723071,   23.18128565,   29.57346112,\n",
       "         34.74487184,   38.70705946,   23.75552945,   37.48099692,\n",
       "         10.00414059,   24.7157559 ,   29.57346112,   34.74487184,\n",
       "         38.70705946,   23.75552945,   34.38424295,   37.48099692,\n",
       "         38.3392407 ,   10.00414059,   40.23566429,  166.47999459,\n",
       "        180.49305698,  246.58804539,  269.0677508 ,  197.18226576,\n",
       "        296.98337858,  168.68198779,  277.9339994 ,  295.11401161,\n",
       "          7.25723071,   29.57346112,   23.75552945,   37.48099692,\n",
       "          7.25723071,   23.18128565,   29.57346112,   34.74487184,\n",
       "         38.70705946,   23.75552945,   37.48099692,   10.00414059,\n",
       "         24.7157559 ,    7.25723071,   23.18128565,   29.57346112,\n",
       "         23.75552945,   37.48099692,   65.8391803 ,   10.00414059,\n",
       "         24.7157559 ,   18.18205346,    7.25723071,   23.18128565,\n",
       "         23.75552945,   37.48099692,   65.8391803 ,   10.00414059,\n",
       "         24.7157559 ,   40.0778655 ,   54.02432696,    7.25723071,\n",
       "         23.18128565,   10.00414059,    7.25723071,   23.18128565,\n",
       "         29.57346112,   23.75552945,   37.48099692,   10.00414059,\n",
       "         24.7157559 ,  147.67053012,  327.85631463,  203.53773504,\n",
       "         10.00414059,   18.18205346,   27.03940932,   23.18128565,\n",
       "         34.74487184,   38.70705946,   23.75552945,   34.38424295,\n",
       "         37.48099692,   38.3392407 ,   24.7157559 ,   40.23566429,\n",
       "        131.82840189,  133.84062028,   10.00414059,   18.18205346,\n",
       "         27.03940932,  147.67053012,   57.14227213,   47.28760521,\n",
       "         60.13344849,   52.80923843,  179.6244068 ,   10.00414059,\n",
       "         18.18205346,   26.19970784,    7.25723071,   23.18128565,\n",
       "         29.57346112,   23.75552945,   37.48099692,   10.00414059,\n",
       "         24.7157559 ,  131.82840189,   10.00414059,   18.18205346,\n",
       "         27.03940932,   26.19970784,  131.82840189,   10.00414059,\n",
       "         18.18205346,   27.03940932,   26.19970784,  147.67053012,\n",
       "         57.14227213,   47.28760521,   60.13344849,   52.80923843,\n",
       "        179.6244068 ,    7.25723071,   23.18128565,   29.57346112,\n",
       "         23.75552945,   37.48099692,   10.00414059,   27.03940932,\n",
       "         10.00414059,   18.18205346,   26.19970784,   37.48099692,\n",
       "         10.00414059,   27.03940932,    7.25723071,   23.18128565,\n",
       "         23.75552945,   10.00414059,    7.25723071,   34.74487184,\n",
       "         38.70705946,   23.75552945,   34.38424295,   38.3392407 ,\n",
       "         40.23566429,  131.82840189,  133.84062028,   60.13344849,\n",
       "         52.80923843,  179.6244068 ,  131.82840189,   10.00414059,\n",
       "         27.03940932,   26.19970784,   10.00414059,   23.18128565,\n",
       "         34.74487184,   38.70705946,   23.75552945,   34.38424295,\n",
       "         37.48099692,   38.3392407 ,   24.7157559 ,   40.23566429,\n",
       "         10.00414059,   18.18205346,  131.82840189,   47.28760521,\n",
       "        131.82840189,   10.00414059,   27.03940932,   26.19970784,\n",
       "        131.82840189,  147.67053012,  133.84062028,  246.58804539,\n",
       "        269.0677508 ,  197.18226576,  296.98337858,  179.6244068 ,\n",
       "        218.30157153,   23.18128565,   34.74487184,   38.70705946,\n",
       "         23.75552945,   34.38424295,   37.48099692,   38.3392407 ,\n",
       "         24.7157559 ,   40.23566429,   10.00414059,   27.03940932,\n",
       "        131.82840189,  147.67053012,  166.47999459,  180.49305698,\n",
       "        133.84062028,  175.43365691,  197.18226576,  168.68198779,\n",
       "        135.40555289,  131.82840189,   10.00414059,   18.18205346,\n",
       "         27.03940932,   26.19970784,  246.58804539,  296.98337858,\n",
       "        179.6244068 ,  131.82840189,  147.67053012,  133.84062028,\n",
       "        246.58804539,  269.0677508 ,  197.18226576,  296.98337858,\n",
       "        179.6244068 ,  218.30157153,    7.25723071,   23.18128565,\n",
       "         10.00414059,  131.82840189,  133.84062028,   10.00414059,\n",
       "         27.03940932,   30.40162096,   60.13344849,   26.19970784,\n",
       "         52.80923843,  179.6244068 ,  316.41874042,   10.00414059,\n",
       "         18.18205346,   27.03940932,   23.18128565,   29.57346112,\n",
       "         34.74487184,   23.75552945,   34.38424295,   37.48099692,\n",
       "         10.00414059,   40.23566429,   27.03940932,    7.25723071,\n",
       "         23.18128565,   34.74487184,   23.75552945,   37.48099692,\n",
       "         10.00414059,   24.7157559 ,   18.18205346,  166.47999459,\n",
       "        180.49305698,  327.85631463,  150.96633004,  175.43365691,\n",
       "        151.92447521,  197.18226576,  168.68198779,  203.53773504,\n",
       "         10.00414059,  131.82840189,   23.18128565,   29.57346112,\n",
       "         23.75552945,   37.48099692,   10.00414059,   24.7157559 ,\n",
       "         34.36570065,   18.18205346,  131.82840189,   10.00414059,\n",
       "         18.18205346,   27.03940932,   26.19970784,  131.82840189,\n",
       "         10.00414059,   18.18205346,   27.03940932,   26.19970784,\n",
       "          7.25723071,   23.18128565,   23.75552945,   10.00414059,\n",
       "         10.00414059,   18.18205346,   27.03940932,   29.57346112,\n",
       "         86.92651005,   65.8391803 ,   34.36570065,   50.72852704,\n",
       "         75.19509708,    7.25723071,   23.18128565,   29.57346112,\n",
       "         23.75552945,   37.48099692,   10.00414059,   24.7157559 ,\n",
       "        166.47999459,  180.49305698,  206.42125251,  151.92447521,\n",
       "        152.43192888,  142.27982827,  168.68198779,  179.6244068 ,\n",
       "        295.11401161,   10.00414059,   18.18205346,   27.03940932,\n",
       "        131.82840189,   10.00414059,   18.18205346,   27.03940932,\n",
       "         26.19970784,  131.82840189,   10.00414059,   27.03940932,\n",
       "         26.19970784,   10.00414059,   18.18205346,   27.03940932,\n",
       "         30.40162096,   37.09766316,   26.19970784,   37.48099692,\n",
       "        147.67053012,  283.7369837 ,   57.14227213,   47.28760521,\n",
       "         60.13344849,   52.80923843,  179.6244068 ,   23.18128565,\n",
       "         29.57346112,   37.48099692,   10.00414059,   24.7157559 ,\n",
       "         34.36570065,   40.0778655 ,   18.18205346,   27.03940932,\n",
       "          7.25723071,   23.18128565,   28.45732794,   10.00414059,\n",
       "         24.7157559 ,   37.20361919,   18.18205346,   31.29524648,\n",
       "         17.73401085,  131.82840189,   10.00414059,   18.18205346,\n",
       "         27.03940932,   26.19970784,    7.25723071,  131.82840189,\n",
       "        147.67053012,  133.84062028,  197.18226576,   18.18205346,\n",
       "         60.13344849,  168.68198779,   52.80923843,  179.6244068 ,\n",
       "          7.25723071,   23.18128565,   29.57346112,   34.74487184,\n",
       "         23.75552945,   34.38424295,   37.48099692,   10.00414059,\n",
       "         40.23566429,   27.03940932,    7.25723071,   23.18128565,\n",
       "         29.57346112,   34.74487184,   23.75552945,   37.48099692,\n",
       "         10.00414059,   24.7157559 ,   18.18205346,   10.00414059,\n",
       "         18.18205346,   23.18128565,   29.57346112,   34.74487184,\n",
       "         23.75552945,   34.38424295,   37.48099692,   10.00414059,\n",
       "         40.23566429,   27.03940932,    7.25723071,   23.18128565,\n",
       "         29.57346112,   34.74487184,   23.75552945,   37.48099692,\n",
       "         10.00414059,   24.7157559 ,   18.18205346,    7.25723071,\n",
       "         23.18128565,   29.57346112,   34.74487184,   23.75552945,\n",
       "         34.38424295,   37.48099692,   10.00414059,   40.23566429,\n",
       "         23.18128565,   29.57346112,   34.74487184,   35.46594042,\n",
       "         23.75552945,   37.48099692,   24.7157559 ,   17.73401085,\n",
       "         26.19970784,  166.47999459,  180.49305698,  206.42125251,\n",
       "        246.58804539,  269.0677508 ,  151.92447521,  296.98337858,\n",
       "        277.9339994 ,  295.11401161,   10.00414059,   18.18205346,\n",
       "         27.03940932,    7.25723071,   23.18128565,   29.57346112,\n",
       "         34.74487184,   23.75552945,   37.48099692,   10.00414059,\n",
       "         24.7157559 ,   10.00414059,   27.03940932,   10.00414059,\n",
       "         26.19970784,   23.18128565,   29.57346112,   34.74487184,\n",
       "         35.46594042,   23.75552945,   37.48099692,   10.00414059,\n",
       "         24.7157559 ,   26.19970784,  150.96633004,   10.00414059,\n",
       "         18.18205346,   30.40162096,   37.09766316,   47.28760521,\n",
       "         60.13344849,   26.19970784,   52.80923843,    7.25723071,\n",
       "         23.18128565,   29.57346112,   23.75552945,   10.00414059,\n",
       "         24.7157559 ,   34.36570065,   18.18205346,   23.18128565,\n",
       "         29.57346112,   34.74487184,   23.75552945,   34.38424295,\n",
       "         37.48099692,   10.00414059,   40.23566429,   27.03940932,\n",
       "          7.25723071,   23.18128565,   29.57346112,   23.75552945,\n",
       "         37.48099692,   65.8391803 ,   10.00414059,   24.7157559 ,\n",
       "         18.18205346,  131.82840189,   10.00414059,   18.18205346,\n",
       "         27.03940932,   26.19970784,    7.25723071,   23.18128565,\n",
       "         29.57346112,   34.74487184,   23.75552945,   34.38424295,\n",
       "         37.48099692,   10.00414059,   40.23566429,  131.82840189,\n",
       "        147.67053012,  133.84062028,  152.43192888,  142.27982827,\n",
       "        316.41874042,    7.25723071,   34.74487184,   38.70705946,\n",
       "         23.75552945,   34.38424295,   37.48099692,   38.3392407 ,\n",
       "          7.25723071,   23.18128565,   23.75552945,   10.00414059,\n",
       "        131.82840189,  133.84062028,  131.82840189,    7.25723071,\n",
       "         23.18128565,   29.57346112,   34.74487184,   23.75552945,\n",
       "         34.38424295,   37.48099692,   10.00414059,   40.23566429,\n",
       "          7.25723071,   23.18128565,   29.57346112,   23.75552945,\n",
       "         10.00414059,   24.7157559 ,   34.36570065,   18.18205346,\n",
       "         23.18128565,   29.57346112,   34.74487184,   23.75552945,\n",
       "         34.38424295,   37.48099692,   10.00414059,   40.23566429,\n",
       "         27.03940932,  166.47999459,  180.49305698,  206.42125251,\n",
       "        246.58804539,  269.0677508 ,  151.92447521,  296.98337858,\n",
       "        277.9339994 ,  295.11401161,  316.41874042,   23.18128565,\n",
       "         29.57346112,   34.74487184,   23.75552945,   37.48099692,\n",
       "         65.8391803 ,   10.00414059,   24.7157559 ,   75.19509708])"
      ]
     },
     "execution_count": 164,
     "metadata": {},
     "output_type": "execute_result"
    }
   ],
   "source": [
    "values / np.ones_like(values) * np.sum(values)"
   ]
  },
  {
   "cell_type": "code",
   "execution_count": null,
   "metadata": {
    "collapsed": true
   },
   "outputs": [],
   "source": []
  }
 ],
 "metadata": {
  "anaconda-cloud": {},
  "kernelspec": {
   "display_name": "Python [default]",
   "language": "python",
   "name": "python3"
  },
  "language_info": {
   "codemirror_mode": {
    "name": "ipython",
    "version": 3
   },
   "file_extension": ".py",
   "mimetype": "text/x-python",
   "name": "python",
   "nbconvert_exporter": "python",
   "pygments_lexer": "ipython3",
   "version": "3.5.1"
  }
 },
 "nbformat": 4,
 "nbformat_minor": 1
}
