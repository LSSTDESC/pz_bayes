{
 "cells": [
  {
   "cell_type": "code",
   "execution_count": 56,
   "metadata": {
    "collapsed": false
   },
   "outputs": [
    {
     "name": "stdout",
     "output_type": "stream",
     "text": [
      "Populating the interactive namespace from numpy and matplotlib\n"
     ]
    }
   ],
   "source": [
    "%pylab inline"
   ]
  },
  {
   "cell_type": "code",
   "execution_count": 53,
   "metadata": {
    "collapsed": true
   },
   "outputs": [],
   "source": [
    "import os\n",
    "import time\n",
    "import scipy.stats\n",
    "\n",
    "from astropy.table import Table\n",
    "from multiprocessing import Process, Queue, Pool"
   ]
  },
  {
   "cell_type": "code",
   "execution_count": 54,
   "metadata": {
    "collapsed": true
   },
   "outputs": [],
   "source": [
    "## Inverse transform sample\n",
    "def sample(uniform_dist, x_interp, size, rng):\n",
    "    ## uniform_dist is proxy for cdf\n",
    "    rndm = rng.uniform(size=size)\n",
    "    idx = [(np.abs(uniform_dist - rndm[ii])).argmin() for ii in range(size)]\n",
    "    return(x_interp[idx])\n",
    "\n",
    "## Convert from index in flattened array to 2d index\n",
    "def find_2d_index(index, nx):\n",
    "    index = np.asarray(index)\n",
    "    ix = index % nx\n",
    "    iy = index // nx\n",
    "    return(ix, iy)\n",
    "\n",
    "\n",
    "## type\n",
    "def prob_type(t, a, t0):\n",
    "    '''Distribution for galaxy of type t.\n",
    "    \n",
    "    Parameters\n",
    "    ----------\n",
    "    t : int or array\n",
    "        Galaxy type(s) to be sampled.\n",
    "    a : Model parameter.\n",
    "    t0 : Model parameter.\n",
    "    \n",
    "    Returns\n",
    "    -------\n",
    "    int or array\n",
    "    Distribution of probabilities.\n",
    "    '''\n",
    "    \n",
    "    num = t ** a\n",
    "    den = np.exp(t / t0) ** a\n",
    "    \n",
    "    p = num / den\n",
    "    norm = np.sum(p)\n",
    "    \n",
    "    return(p / norm)\n",
    "\n",
    "## z\n",
    "def assign_redshifts(t, rng):\n",
    "    '''Generate a redshift distribution for \n",
    "    galaxies based on their type t.\n",
    "    \n",
    "    Parameters\n",
    "    ----------\n",
    "    t : int or array\n",
    "        Galaxy type(s) to be sampled.\n",
    "    \n",
    "    Returns\n",
    "    -------\n",
    "    int or array\n",
    "    Distribution of probabilities.\n",
    "    '''\n",
    "    \n",
    "    n = len(t)\n",
    "    z = np.ones_like(t)\n",
    "    \n",
    "    rnd = rng.uniform(size=n)\n",
    "    \n",
    "    for ii, tt in enumerate(t):\n",
    "        if tt == 0:\n",
    "            if rnd[ii] >= 0.2:\n",
    "                z[ii] = tt\n",
    "            else:\n",
    "                z[ii] = tt + 0.02\n",
    "        if tt == 1:\n",
    "            if rnd[ii] >= 0.2:\n",
    "                z[ii] = tt\n",
    "            else:\n",
    "                z[ii] = tt - 0.02\n",
    "        else:\n",
    "            if rnd[ii] >= 0.4:\n",
    "                z[ii] = tt\n",
    "            if tt < 0.02:\n",
    "                z[ii] = tt + 0.02\n",
    "            elif tt > 0.98:\n",
    "                z[ii] = tt - 0.02\n",
    "            else:\n",
    "                if (rnd[ii] >= 0.2) and (rnd[ii] < 0.4):\n",
    "                    z[ii] = tt + 0.02\n",
    "                else:\n",
    "                    z[ii] = tt - 0.02   \n",
    "    return(z)\n",
    "\n",
    "## F\n",
    "def feature_likelihood(t, scale, rng):\n",
    "    return(scipy.stats.norm.rvs(loc=t, scale=scale, random_state=rng))\n",
    "\n",
    "## delta field\n",
    "def fftIndgen(n):\n",
    "    '''Generate grid of k values over which to calculate power spectrum.'''\n",
    "    a = range(0, int(n/2)+1)\n",
    "    b = range(1, int(n/2))\n",
    "    b = reversed(b)\n",
    "    a = [i for i in a]\n",
    "    b = [-i for i in b]\n",
    "    return a + b\n",
    "\n",
    "def gaussian_random_field(Pk = lambda k : k**-3.0, size = 1024):\n",
    "    def Pk2(kx, ky):\n",
    "        if kx == 0 and ky == 0:\n",
    "            return 0.0\n",
    "        return np.sqrt(Pk(np.sqrt(kx**2 + ky**2)))\n",
    "    noise = np.fft.fft2(np.random.normal(size = (size, size)))\n",
    "    amplitude = np.zeros((size,size))\n",
    "    for i, kx in enumerate(fftIndgen(size)):\n",
    "        for j, ky in enumerate(fftIndgen(size)):            \n",
    "            amplitude[i, j] = Pk2(kx, ky)\n",
    "    return np.fft.ifft2(noise * amplitude)\n",
    "\n",
    "def delta_field(nx, nz, rms=2.5):\n",
    "    delta = np.empty((nx,nx,nz))\n",
    "    for i in range(nz):\n",
    "        z_slice = gaussian_random_field(Pk = lambda k: k**-3.0, size=nx).real\n",
    "        ## set variance = 2.5\n",
    "        delta[:,:,i] = (z_slice / np.std(z_slice)) * rms\n",
    "    return(delta)\n",
    "\n",
    "def get_positions(rho, z_indices, nx, nz, N, rng):\n",
    "    rho_flat = rho.reshape(nx*nx, 50)\n",
    "    cdf = np.cumsum(rho_flat, axis=0)\n",
    "    cdf /= cdf[-1,:]\n",
    "\n",
    "    unique, counts = np.unique(z_indices, return_counts=True)\n",
    "    n_subsamples = (counts * 0.05).astype(int)\n",
    "    \n",
    "    theta_x = np.empty(N, dtype=int)\n",
    "    theta_y = np.empty(N, dtype=int)\n",
    "\n",
    "    for i in range(nz):\n",
    "        u = rng.uniform(size=counts[i])\n",
    "        ## this line takes the most time to run\n",
    "        indices = [np.argmin(np.abs(cdf[:,i] - u[j])) for j in range(counts[i])]\n",
    "        ix, iy = np.unravel_index(indices, (nx,nx)) ## this doesn't sample in the correct locations...\n",
    "        galaxies_index = np.argwhere(z_indices == i)\n",
    "        theta_x[galaxies_index] = ix.reshape(-1,1)\n",
    "        theta_y[galaxies_index] = iy.reshape(-1,1)\n",
    "    \n",
    "    return(theta_x, theta_y)"
   ]
  },
  {
   "cell_type": "code",
   "execution_count": 51,
   "metadata": {
    "collapsed": true
   },
   "outputs": [],
   "source": [
    "def setup_bins(nz, nt):\n",
    "    \n",
    "    z_bins = np.linspace(0, 1, nz+1)\n",
    "    z_mdpt = (z_bins[1:] + z_bins[:-1]) / 2\n",
    "    t_bins = np.linspace(0, 1, nt+1)\n",
    "    t_mdpt = (t_bins[1:] + t_bins[:-1]) / 2\n",
    "    \n",
    "    return(z_bins, z_mdpt, t_bins, t_mdpt)\n",
    "\n",
    "\n",
    "def interpolate_type_cdf_domain(t_mdpt, t_bins, a, t0, N, rng):\n",
    "    \n",
    "    p = prob_type(t_mdpt, a, t0)\n",
    "    P = np.zeros_like(t_bins)\n",
    "    P[1:] = np.cumsum(p)\n",
    "    P /= P[-1] \n",
    "    \n",
    "    u = rng.uniform(size=N)\n",
    "    return(u, np.interp(u, P, t_bins))\n",
    "    \n",
    "\n",
    "def generate_walker(seed, save_dir='./', nz=50, nt=50, nx=1024, N=100000, a=1.5, t0=0.3, sig_F=0.02, rms=2.5):\n",
    "    \n",
    "    rng = np.random.RandomState(seed)\n",
    "    \n",
    "    ## set up table to store initial type and redshift data\n",
    "    col_names = ['F', 't', 'z', 'theta_x', 'theta_y', 'z_bin']\n",
    "    galaxies = Table(data=np.full((N,len(col_names)), 0), names=(col_names))\n",
    "    \n",
    "    ## set up bins\n",
    "    z_bins, z_mdpt, t_bins, t_mdpt = setup_bins(nz, nt)\n",
    "    \n",
    "    ## set up type cdf domain for ITS\n",
    "    u, t_interp = interpolate_type_cdf_domain(t_mdpt, t_bins, a, t0, N, rng)\n",
    "    \n",
    "    print('Sampling types...', end='', flush=True)\n",
    "    galaxies['t'] = sample(u, t_interp, N, rng)\n",
    "    print('done.')\n",
    "    print('Sampling redshifts...', end='', flush=True)\n",
    "    galaxies['z'] = assign_redshifts(galaxies['t'], rng)\n",
    "    galaxies['z_bin'] = np.digitize(galaxies['z'], z_bins) - 1\n",
    "    print('done.')\n",
    "    print('Sampling features...', end='', flush=True)\n",
    "    galaxies['F'] = feature_likelihood(galaxies['t'], scale=sig_F, rng=rng)\n",
    "    print('done.')\n",
    "    print('Generating delta field...', end='', flush=True)\n",
    "    delta = delta_field(nx, nz, rms=rms)\n",
    "    rho = np.maximum(0, delta + 1)\n",
    "    print('done.')\n",
    "    print('Sample positions based on a 5% subsample of delta field...', \n",
    "          end='', flush=True)\n",
    "    galaxies['theta_x'], galaxies['theta_y'] = get_positions(rho, galaxies['z_bin'], nx, nz, N, rng)\n",
    "    print('done.')\n",
    "    \n",
    "    if save_dir:\n",
    "        galaxies.write(save_dir+'galaxies_{}.fits'.format(seed), format='fits', overwrite=True)\n",
    "        np.save(save_dir+'data_{}'.format(seed), [z_bins, z_mdpt, t_bins, t_mdpt, rho])\n",
    "    \n",
    "    q.put([z_bins, z_mdpt, t_bins, t_mdpt, rho, galaxies])"
   ]
  },
  {
   "cell_type": "code",
   "execution_count": null,
   "metadata": {
    "collapsed": false
   },
   "outputs": [
    {
     "name": "stdout",
     "output_type": "stream",
     "text": [
      "Sampling types...Sampling types...Sampling types...Sampling types...Sampling types...Sampling types...Sampling types...Sampling types..."
     ]
    }
   ],
   "source": [
    "#seeds = np.arange(1,33)\n",
    "seeds = np.arange(1,9)\n",
    "    \n",
    "pool = Pool(processes=os.cpu_count())\n",
    "\n",
    "results = pool.map(generate_walker, seeds)\n",
    "\n",
    "pool.close()"
   ]
  },
  {
   "cell_type": "code",
   "execution_count": 46,
   "metadata": {
    "collapsed": false
   },
   "outputs": [
    {
     "name": "stdout",
     "output_type": "stream",
     "text": [
      "Sampling types...Sampling types...Sampling types...Sampling types...done.\n",
      "Sampling redshifts...done.\n",
      "Sampling redshifts...done.\n",
      "Sampling redshifts...done.\n",
      "Sampling redshifts...done.\n",
      "Sampling features...done.\n",
      "Generating delta field...done.\n",
      "Sampling features...done.\n",
      "Generating delta field...done.\n",
      "Sampling features...done.\n",
      "Generating delta field...done.\n",
      "Sampling features...done.\n",
      "Generating delta field...done.\n",
      "Sample positions based on a 5% subsample of delta field...done.\n",
      "Sample positions based on a 5% subsample of delta field...done.\n",
      "Sample positions based on a 5% subsample of delta field...done.\n",
      "Sample positions based on a 5% subsample of delta field...done.\n",
      "done.\n",
      "done.\n",
      "done.\n",
      "Total time: 4530.337233066559\n"
     ]
    }
   ],
   "source": [
    "seeds = [22, 33, 44, 55]\n",
    "\n",
    "start = time.time()\n",
    "\n",
    "q = Queue()\n",
    "p1 = Process(target=generate_walker, args=(seeds[0], True, q))\n",
    "p1.start()\n",
    "p2 = Process(target=generate_walker, args=(seeds[1], True, q))\n",
    "p2.start()\n",
    "p3 = Process(target=generate_walker, args=(seeds[2], True, q))\n",
    "p3.start()\n",
    "p4 = Process(target=generate_walker, args=(seeds[3], True, q))\n",
    "p4.start()\n",
    "\n",
    "results = []\n",
    "for i in range(len(seeds)):\n",
    "    #set block=True to block until we get a result\n",
    "    results.append(q.get(True))\n",
    "\n",
    "p1.join()\n",
    "p2.join()\n",
    "p3.join()\n",
    "p4.join()\n",
    "\n",
    "print('Total time: {}'.format(time.time()-start))"
   ]
  },
  {
   "cell_type": "code",
   "execution_count": 9,
   "metadata": {
    "collapsed": false
   },
   "outputs": [],
   "source": [
    "walker_22 = Table.read('old_galaxies_files/galaxies_22.fits', format='fits')\n",
    "walker_33 = Table.read('old_galaxies_files/galaxies_33.fits', format='fits')\n",
    "walker_44 = Table.read('old_galaxies_files/galaxies_44.fits', format='fits')\n",
    "walker_55 = Table.read('old_galaxies_files/galaxies_55.fits', format='fits')"
   ]
  },
  {
   "cell_type": "markdown",
   "metadata": {},
   "source": [
    "Initial simulation (each walker) consists of 100,000 galaxies. Each chain in the Gibbs sampler then generates 2500 samples. 4 chains x 2500 samples/chain = 10,000 samples."
   ]
  },
  {
   "cell_type": "markdown",
   "metadata": {},
   "source": [
    "## Gibbs sampler"
   ]
  },
  {
   "cell_type": "code",
   "execution_count": 5,
   "metadata": {
    "collapsed": false
   },
   "outputs": [
    {
     "name": "stdout",
     "output_type": "stream",
     "text": [
      "BlackbodySpectrumStudy.ipynb\r\n",
      "SOM.ipynb\r\n",
      "TPZ.dot\r\n",
      "TPZ_dot.png\r\n",
      "TPZ_neato.png\r\n",
      "bernstein_paper.ipynb\r\n",
      "bernstein_paper_scratch.ipynb\r\n",
      "bernstein_redshift_inference_paper.ipynb\r\n",
      "calculate_errors.ipynb\r\n",
      "colors_table.fits\r\n",
      "colors_z0005_t200_r25.p\r\n",
      "\u001b[34mcori\u001b[m\u001b[m\r\n",
      "\u001b[34mdata\u001b[m\u001b[m\r\n",
      "decision_tree.ipynb\r\n",
      "density_field.png\r\n",
      "galaxy_data.pkl\r\n",
      "initial_data.fits\r\n",
      "mags_z0005_t200_r25.p\r\n",
      "\u001b[34mold_galaxies_files\u001b[m\u001b[m\r\n",
      "photoz.ipynb\r\n",
      "pz_DC1.ipynb\r\n",
      "redshift_inference_using_hbm.ipynb\r\n",
      "rho.npy\r\n",
      "rho_22.npy\r\n",
      "rho_33.npy\r\n",
      "rho_44.npy\r\n",
      "rho_55.npy\r\n",
      "run_mcmc.py\r\n",
      "\u001b[34msampled\u001b[m\u001b[m\r\n",
      "sampled_test.fits\r\n",
      "sed_blackbody.ipynb\r\n",
      "\u001b[34mtemp\u001b[m\u001b[m\r\n"
     ]
    }
   ],
   "source": [
    "!ls"
   ]
  },
  {
   "cell_type": "code",
   "execution_count": 7,
   "metadata": {
    "collapsed": true
   },
   "outputs": [],
   "source": [
    "z_bins, z_mdpt, t_bins, t_mdpt = setup_bins(nz=50, nt=50)\n",
    "initial_data = Table.read('initial_data.fits', format='fits')\n",
    "rho = np.load('rho.npy')"
   ]
  },
  {
   "cell_type": "code",
   "execution_count": 20,
   "metadata": {
    "collapsed": true
   },
   "outputs": [],
   "source": [
    "def run_mcmc(initial_data, seed, z_bins, z_mdpt, t_bins, t_mdpt, rho, sigma=0.02, eps=1e-4, size=100000, n_cycles=5):\n",
    "    \n",
    "    rng = np.random.RandomState(seed=seed)\n",
    "    \n",
    "    nz = len(z_mdpt)\n",
    "    nt = len(t_mdpt)\n",
    "    \n",
    "    z_samples = np.empty((n_cycles, size), dtype=np.float64)\n",
    "    t_samples = np.empty((n_cycles, size), dtype=np.float64)\n",
    "    \n",
    "    new_z = initial_data['z']\n",
    "    new_t = initial_data['t']   \n",
    "        \n",
    "    for cycle in range(n_cycles):\n",
    "        \n",
    "        print('Cycle {} of {}'.format(cycle+1, n_cycles))\n",
    "    \n",
    "        ## Calculate probabilities\n",
    "        h, _, _ = np.histogram2d(new_z, new_t, bins=(z_bins, t_bins))\n",
    "                    \n",
    "        h[h == 0] = eps\n",
    "        alpha = h.flatten()\n",
    "\n",
    "        ## Generate Dirichlet posterior for probabilities\n",
    "        ## this producing the same distribution each time, because alpha is different for each iteration...\n",
    "        dirichlet = scipy.stats.dirichlet.rvs(alpha, random_state=rng, size=1)\n",
    "        dirichlet = dirichlet.reshape(nz,nt)\n",
    "        \n",
    "        ## Sample from posterior\n",
    "        new_indices = np.empty(size, dtype=int)\n",
    "\n",
    "        for k in range(size): \n",
    "            norm = scipy.stats.norm.pdf(t_mdpt, loc=initial_data['F'][k], scale=sigma) \n",
    "            probs = dirichlet * norm #* rho[initial_data['theta_x'][k], initial_data['theta_y'][k]].reshape(-1,1)\n",
    "            probs /= np.sum(probs)\n",
    "            new_index = scipy.stats.multinomial.rvs(n=1, p=probs.flatten(), size=1, random_state=rng)\n",
    "            new_indices[k] = np.argmax(new_index)\n",
    "                        \n",
    "        unravel_index = np.unravel_index(new_indices, (nz,nt))\n",
    "        new_iz, new_it = unravel_index[0], unravel_index[1]\n",
    "        #new_iz/new_it are the bin indices in the 1d redshift/type bin array\n",
    "        new_z = scipy.stats.norm.rvs(loc=z_mdpt[new_iz], scale=np.full(len(new_iz), 0.01), random_state=rng)\n",
    "        new_t = scipy.stats.norm.rvs(loc=t_mdpt[new_it], scale=np.full(len(new_it), 0.01), random_state=rng)\n",
    "        \n",
    "        z_samples[cycle] = new_z\n",
    "        t_samples[cycle] = new_t\n",
    "    \n",
    "    return(z_samples, t_samples)"
   ]
  },
  {
   "cell_type": "code",
   "execution_count": 37,
   "metadata": {
    "collapsed": false
   },
   "outputs": [
    {
     "data": {
      "text/plain": [
       "(1024, 1024, 50)"
      ]
     },
     "execution_count": 37,
     "metadata": {},
     "output_type": "execute_result"
    }
   ],
   "source": [
    "rho.shape"
   ]
  },
  {
   "cell_type": "code",
   "execution_count": 36,
   "metadata": {
    "collapsed": false
   },
   "outputs": [
    {
     "data": {
      "text/plain": [
       "array([1.14846389e+00, 1.55437801e+00, 3.43085190e+00, 0.00000000e+00,\n",
       "       0.00000000e+00, 5.62066103e-01, 2.50208463e+00, 0.00000000e+00,\n",
       "       1.30048027e+00, 3.96757932e+00, 0.00000000e+00, 3.71873134e+00,\n",
       "       0.00000000e+00, 3.24301515e+00, 0.00000000e+00, 0.00000000e+00,\n",
       "       0.00000000e+00, 0.00000000e+00, 1.48527685e+00, 0.00000000e+00,\n",
       "       0.00000000e+00, 0.00000000e+00, 1.14249111e+00, 3.09927920e+00,\n",
       "       0.00000000e+00, 0.00000000e+00, 5.36980787e+00, 3.84843894e+00,\n",
       "       2.20516930e+00, 1.51692608e+00, 3.78299548e-03, 0.00000000e+00,\n",
       "       2.02180017e+00, 2.48238869e+00, 2.24517965e-01, 0.00000000e+00,\n",
       "       2.02168883e+00, 2.11661796e-01, 2.01620849e+00, 1.33872482e+00,\n",
       "       3.07059413e+00, 2.36317480e+00, 0.00000000e+00, 0.00000000e+00,\n",
       "       3.10598976e-01, 2.75309980e+00, 3.26087895e+00, 0.00000000e+00,\n",
       "       4.78901211e+00, 3.08581283e+00])"
      ]
     },
     "execution_count": 36,
     "metadata": {},
     "output_type": "execute_result"
    }
   ],
   "source": [
    "rho[initial_data['theta_x'][0], initial_data['theta_y'][0]]"
   ]
  },
  {
   "cell_type": "markdown",
   "metadata": {},
   "source": [
    "Troubleshooting issue of smaller errors w/clustering data, and errors w/out clustering data aren't big enough\n",
    "Overplot histograms and see look at bias/variance"
   ]
  },
  {
   "cell_type": "code",
   "execution_count": 12,
   "metadata": {
    "collapsed": false
   },
   "outputs": [
    {
     "name": "stdout",
     "output_type": "stream",
     "text": [
      "Cycle 1 of 5\n",
      "Cycle 2 of 5\n",
      "Cycle 3 of 5\n",
      "Cycle 4 of 5\n",
      "Cycle 5 of 5\n"
     ]
    }
   ],
   "source": [
    "sampled_z, sampled_t = run_mcmc(initial_data, 123, z_bins, z_mdpt, t_bins, t_mdpt, rho)"
   ]
  },
  {
   "cell_type": "code",
   "execution_count": 45,
   "metadata": {
    "collapsed": false
   },
   "outputs": [
    {
     "data": {
      "image/png": "[encoded data removed]",
      "text/plain": [
       "<matplotlib.figure.Figure at 0x1a3e084780>"
      ]
     },
     "metadata": {},
     "output_type": "display_data"
    }
   ],
   "source": [
    "plt.hist(initial_data['z'], bins=z_bins, alpha=0.3)\n",
    "plt.hist([sampled_z[i] for i in range(5)], color=np.repeat('b', 5), bins=z_bins, histtype='step', label='F + delta')\n",
    "plt.hist([sampled_z_nc[i] for i in range(5)], color=np.repeat('r', 5), bins=z_bins, histtype='step', label='F')\n",
    "plt.legend()\n",
    "plt.show()"
   ]
  },
  {
   "cell_type": "code",
   "execution_count": 47,
   "metadata": {
    "collapsed": false
   },
   "outputs": [
    {
     "data": {
      "image/png": "[encoded data removed]",
      "text/plain": [
       "<matplotlib.figure.Figure at 0x1a3b8766d8>"
      ]
     },
     "metadata": {},
     "output_type": "display_data"
    }
   ],
   "source": [
    "plt.hist(initial_data['t'], bins=t_bins, alpha=0.3)\n",
    "plt.hist([sampled_t[i] for i in range(5)], color=np.repeat('b', 5), bins=t_bins, histtype='step', label='F + delta')\n",
    "plt.hist([sampled_t_nc[i] for i in range(5)], color=np.repeat('r', 5), bins=t_bins, histtype='step', label='F')\n",
    "plt.legend()\n",
    "plt.show()"
   ]
  },
  {
   "cell_type": "code",
   "execution_count": 21,
   "metadata": {
    "collapsed": false
   },
   "outputs": [
    {
     "name": "stdout",
     "output_type": "stream",
     "text": [
      "Cycle 1 of 5\n",
      "Cycle 2 of 5\n",
      "Cycle 3 of 5\n",
      "Cycle 4 of 5\n",
      "Cycle 5 of 5\n"
     ]
    }
   ],
   "source": [
    "sampled_z_nc, sampled_t_nc = run_mcmc(initial_data, 123, z_bins, z_mdpt, t_bins, t_mdpt, rho)"
   ]
  },
  {
   "cell_type": "markdown",
   "metadata": {},
   "source": [
    "There is more variance in the F + clustering histograms. I used find_2d_index instead of np.unravel_index() when determining indices in 2d histogram for rho - using unravel would have given incorrect positions in the density field though. But find_2d_index didn't return the correct index values in run_mcmc...there is definitely something wrong in the sampling of rho values..."
   ]
  },
  {
   "cell_type": "code",
   "execution_count": 11,
   "metadata": {
    "collapsed": false
   },
   "outputs": [
    {
     "ename": "NameError",
     "evalue": "name 'results' is not defined",
     "output_type": "error",
     "traceback": [
      "\u001b[0;31m---------------------------------------------------------------------------\u001b[0m",
      "\u001b[0;31mNameError\u001b[0m                                 Traceback (most recent call last)",
      "\u001b[0;32m<ipython-input-11-87168309a886>\u001b[0m in \u001b[0;36m<module>\u001b[0;34m()\u001b[0m\n\u001b[0;32m----> 1\u001b[0;31m z_22, t_22 = run_mcmc(walker_22, seeds[0], results[0][0], results[0][1], \n\u001b[0m\u001b[1;32m      2\u001b[0m                       results[0][2], results[0][3], results[0][4], size=10000)\n",
      "\u001b[0;31mNameError\u001b[0m: name 'results' is not defined"
     ]
    }
   ],
   "source": [
    "z_22, t_22 = run_mcmc(walker_22, seeds[0], results[0][0], results[0][1], \n",
    "                      results[0][2], results[0][3], results[0][4], size=10000)"
   ]
  },
  {
   "cell_type": "markdown",
   "metadata": {},
   "source": [
    "each chain has 4 walkers\n",
    "each walker produces 2500 samples\n",
    "so each chain produces 4 x 2500 = 10000 samples\n",
    "choose n_cycles based on convergence metric (see gelman & rubin)\n",
    "\n",
    "so we want to generate 8 chains to simulate a data set of 8 x 10000 galaxies for our fiducial study"
   ]
  },
  {
   "cell_type": "code",
   "execution_count": null,
   "metadata": {
    "collapsed": true
   },
   "outputs": [],
   "source": [
    "def run_chains(seed_list):\n",
    "    \n",
    "    start = time.time()\n",
    "    \n",
    "    p = Pool(os.cpu_count())\n",
    "    p.map(generate_walker, [(seed_list[0], True, q), (seed_list[1], True, q), (seed_list[2], True, q), \n",
    "                            (seed_list[3], True, q)])\n",
    "\n",
    "    results = []\n",
    "    for i in range(len(seeds)):\n",
    "        #set block=True to block until we get a result\n",
    "        results.append(q.get(True))\n",
    "\n",
    "    p1.join()\n",
    "    p2.join()\n",
    "    p3.join()\n",
    "    p4.join()\n",
    "\n",
    "    print('Total time: {}'.format(time.time()-start))\n",
    "    return(results)"
   ]
  },
  {
   "cell_type": "code",
   "execution_count": 78,
   "metadata": {
    "collapsed": false
   },
   "outputs": [
    {
     "data": {
      "text/plain": [
       "(3, 10000)"
      ]
     },
     "execution_count": 78,
     "metadata": {},
     "output_type": "execute_result"
    }
   ],
   "source": [
    "z_22.shape"
   ]
  },
  {
   "cell_type": "code",
   "execution_count": 72,
   "metadata": {
    "collapsed": false
   },
   "outputs": [
    {
     "data": {
      "image/png": "[encoded data removed]",
      "text/plain": [
       "<matplotlib.figure.Figure at 0x1a21f73780>"
      ]
     },
     "metadata": {},
     "output_type": "display_data"
    }
   ],
   "source": [
    "plt.hist(walker_22['z'], bins=results[0][0])\n",
    "plt.show()"
   ]
  },
  {
   "cell_type": "code",
   "execution_count": 77,
   "metadata": {
    "collapsed": false
   },
   "outputs": [
    {
     "data": {
      "image/png": "[encoded data removed]",
      "text/plain": [
       "<matplotlib.figure.Figure at 0x1a20ce25f8>"
      ]
     },
     "metadata": {},
     "output_type": "display_data"
    }
   ],
   "source": [
    "plt.hist(z_22[-1], bins=results[0][0])\n",
    "plt.show()"
   ]
  },
  {
   "cell_type": "code",
   "execution_count": null,
   "metadata": {
    "collapsed": true
   },
   "outputs": [],
   "source": [
    "nz = 50\n",
    "nt = 50\n",
    "\n",
    "z_bins, z_mdpt, t_bins, t_mdpt = setup_bins(nz, nt)\n",
    "\n",
    "def get_hist_data(files):\n",
    "    \n",
    "    n = len(files)\n",
    "    \n",
    "    z = np.empty((n,nz), dtype=int) \n",
    "    t = np.empty((n,nt), dtype=int)\n",
    "    \n",
    "    for i in range(n):\n",
    "        table = Table.read(files[i], format='fits')\n",
    "        z[i], _ = np.histogram(table['z'], bins=z_bins)\n",
    "        t[i], _ = np.histogram(table['t'], bins=t_bins)\n",
    "        \n",
    "    return(z, t, z_percentiles, t_percentiles)"
   ]
  },
  {
   "cell_type": "code",
   "execution_count": null,
   "metadata": {
    "collapsed": true
   },
   "outputs": [],
   "source": []
  }
 ],
 "metadata": {
  "anaconda-cloud": {},
  "kernelspec": {
   "display_name": "Python [default]",
   "language": "python",
   "name": "python3"
  },
  "language_info": {
   "codemirror_mode": {
    "name": "ipython",
    "version": 3
   },
   "file_extension": ".py",
   "mimetype": "text/x-python",
   "name": "python",
   "nbconvert_exporter": "python",
   "pygments_lexer": "ipython3",
   "version": "3.5.1"
  }
 },
 "nbformat": 4,
 "nbformat_minor": 1
}
